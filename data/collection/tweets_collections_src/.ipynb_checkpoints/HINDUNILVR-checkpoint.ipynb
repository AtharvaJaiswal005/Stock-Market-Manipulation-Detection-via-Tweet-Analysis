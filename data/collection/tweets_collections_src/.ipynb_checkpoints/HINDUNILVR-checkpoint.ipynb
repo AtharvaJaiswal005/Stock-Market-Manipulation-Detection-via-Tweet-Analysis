{
 "cells": [
  {
   "cell_type": "markdown",
   "id": "0435d665-6e13-4c5d-8297-3de676efae15",
   "metadata": {},
   "source": [
    "# HINDUNILVR"
   ]
  },
  {
   "cell_type": "code",
   "execution_count": 21,
   "id": "735d2234-e3eb-4fdc-8b1f-808652ca0717",
   "metadata": {},
   "outputs": [],
   "source": [
    "import scraper  # Import the scraper module\n",
    "import importlib  # Import the importlib module to handle reloading\n",
    "\n",
    "def main():\n",
    "    # If you have made changes to the scraper.py file, reload it dynamically\n",
    "    importlib.reload(scraper)\n",
    "    \n",
    "    # Use functions from the reloaded scraper module\n",
    "    start_date = scraper.get_last_collected_date('tweets.csv', datetime(2022, 1, 1))\n",
    "    scraper.collect_tweets_for_day(\"Example Query\", start_date, 'tweets.csv')\n",
    "\n",
    "if __name__ == \"__main__\":\n",
    "    main()  # Run the main function\n"
   ]
  },
  {
   "cell_type": "code",
   "execution_count": 22,
   "id": "f01fb032-5cd9-468b-ba9e-a086485d31d0",
   "metadata": {},
   "outputs": [
    {
     "name": "stderr",
     "output_type": "stream",
     "text": [
      "Collecting Tweets:   1%|▊                                                              | 1/78 [00:02<02:38,  2.05s/day]\n"
     ]
    },
    {
     "ename": "NameError",
     "evalue": "name 'daily_stats' is not defined",
     "output_type": "error",
     "traceback": [
      "\u001b[1;31m---------------------------------------------------------------------------\u001b[0m",
      "\u001b[1;31mNameError\u001b[0m                                 Traceback (most recent call last)",
      "Cell \u001b[1;32mIn[22], line 30\u001b[0m\n\u001b[0;32m     28\u001b[0m current_date \u001b[38;5;241m=\u001b[39m start_date\n\u001b[0;32m     29\u001b[0m \u001b[38;5;28;01mwhile\u001b[39;00m current_date \u001b[38;5;241m<\u001b[39m\u001b[38;5;241m=\u001b[39m END_DATE:\n\u001b[1;32m---> 30\u001b[0m     \u001b[43mcollect_tweets_for_day\u001b[49m\u001b[43m(\u001b[49m\u001b[43mQUERY_BASE\u001b[49m\u001b[43m,\u001b[49m\u001b[43m \u001b[49m\u001b[43mcurrent_date\u001b[49m\u001b[43m,\u001b[49m\u001b[43m \u001b[49m\u001b[43mCSV_FILE\u001b[49m\u001b[43m)\u001b[49m\n\u001b[0;32m     31\u001b[0m     current_date \u001b[38;5;241m+\u001b[39m\u001b[38;5;241m=\u001b[39m timedelta(days\u001b[38;5;241m=\u001b[39m\u001b[38;5;241m1\u001b[39m)\n\u001b[0;32m     32\u001b[0m     pbar\u001b[38;5;241m.\u001b[39mupdate(\u001b[38;5;241m1\u001b[39m)\n",
      "File \u001b[1;32m~\\Desktop\\Twitter Scrapper\\scraper.py:337\u001b[0m, in \u001b[0;36mcollect_tweets_for_day\u001b[1;34m(query_base, date, csv_file)\u001b[0m\n\u001b[0;32m    326\u001b[0m     daily_tweet_data\u001b[38;5;241m.\u001b[39mappend([\n\u001b[0;32m    327\u001b[0m         date\u001b[38;5;241m.\u001b[39mstrftime(\u001b[38;5;124m'\u001b[39m\u001b[38;5;124m%\u001b[39m\u001b[38;5;124mY-\u001b[39m\u001b[38;5;124m%\u001b[39m\u001b[38;5;124mm-\u001b[39m\u001b[38;5;132;01m%d\u001b[39;00m\u001b[38;5;124m'\u001b[39m),\n\u001b[0;32m    328\u001b[0m         tweet_count,\n\u001b[1;32m   (...)\u001b[0m\n\u001b[0;32m    333\u001b[0m         tweet\u001b[38;5;241m.\u001b[39mfavorite_count\n\u001b[0;32m    334\u001b[0m     ])\n\u001b[0;32m    336\u001b[0m logging\u001b[38;5;241m.\u001b[39minfo(\u001b[38;5;124mf\u001b[39m\u001b[38;5;124m'\u001b[39m\u001b[38;5;124mGot \u001b[39m\u001b[38;5;132;01m{\u001b[39;00mtweet_count\u001b[38;5;132;01m}\u001b[39;00m\u001b[38;5;124m tweets for \u001b[39m\u001b[38;5;132;01m{\u001b[39;00mdate\u001b[38;5;241m.\u001b[39mstrftime(\u001b[38;5;124m\"\u001b[39m\u001b[38;5;124m%\u001b[39m\u001b[38;5;124mY-\u001b[39m\u001b[38;5;124m%\u001b[39m\u001b[38;5;124mm-\u001b[39m\u001b[38;5;132;01m%d\u001b[39;00m\u001b[38;5;124m\"\u001b[39m)\u001b[38;5;132;01m}\u001b[39;00m\u001b[38;5;124m'\u001b[39m)\n\u001b[1;32m--> 337\u001b[0m \u001b[43mdaily_stats\u001b[49m\u001b[38;5;241m.\u001b[39mappend([date\u001b[38;5;241m.\u001b[39mstrftime(\u001b[38;5;124m'\u001b[39m\u001b[38;5;124m%\u001b[39m\u001b[38;5;124mY-\u001b[39m\u001b[38;5;124m%\u001b[39m\u001b[38;5;124mm-\u001b[39m\u001b[38;5;132;01m%d\u001b[39;00m\u001b[38;5;124m'\u001b[39m), tweet_count])\n\u001b[0;32m    339\u001b[0m \u001b[38;5;66;03m# Add random delay to simulate human-like behavior and avoid rate limits\u001b[39;00m\n\u001b[0;32m    340\u001b[0m time\u001b[38;5;241m.\u001b[39msleep(uniform(\u001b[38;5;241m*\u001b[39mDELAY_BETWEEN_REQUESTS))\n",
      "\u001b[1;31mNameError\u001b[0m: name 'daily_stats' is not defined"
     ]
    }
   ],
   "source": [
    "import logging\n",
    "from datetime import datetime, timedelta\n",
    "from tqdm import tqdm\n",
    "from scraper import collect_tweets_for_day, get_last_collected_date\n",
    "\n",
    "# Configuration\n",
    "START_DATE = datetime(2022, 1, 1)  # Start date of the range\n",
    "END_DATE = datetime(2023, 12, 31)  # End date of the range\n",
    "CSV_FILE = 'HINDUNILVR.csv'  # File for HINDUNILVR tweet data\n",
    "SUMMARY_FILE = 'HINDUNILVR_Collection_Summary.csv'\n",
    "QUERY_BASE = 'HindustanUnilever OR HINDUNILVR OR \"Hindustan Unilever\" OR #HindustanUnilever OR #HINDUNILVR OR Stock OR Market OR #StockMarket OR #MarketAnalysis'\n",
    "\n",
    "# Setup logging\n",
    "logging.basicConfig(filename='hindunilvr_tweet_collection.log', level=logging.INFO, format='%(asctime)s - %(levelname)s - %(message)s')\n",
    "\n",
    "# Get the starting date\n",
    "start_date = get_last_collected_date(CSV_FILE, START_DATE)\n",
    "\n",
    "# Calculate total number of days to collect tweets for progress bar\n",
    "total_days = (END_DATE - start_date).days + 1\n",
    "\n",
    "if start_date > END_DATE:\n",
    "    print(f'All data has already been collected up to {END_DATE.strftime(\"%Y-%m-%d\")}.')\n",
    "else:\n",
    "    # Collect tweets for the specified date range with progress bar\n",
    "    with tqdm(total=total_days, desc=\"Collecting Tweets\", unit=\"day\") as pbar:\n",
    "        current_date = start_date\n",
    "        while current_date <= END_DATE:\n",
    "            collect_tweets_for_day(QUERY_BASE, current_date, CSV_FILE)\n",
    "            current_date += timedelta(days=1)\n",
    "            pbar.update(1)\n",
    "\n",
    "    print(f'Finished collecting tweets.')"
   ]
  },
  {
   "cell_type": "code",
   "execution_count": null,
   "id": "88fc9b44-852b-41e1-87e2-4d82bf3692c7",
   "metadata": {},
   "outputs": [],
   "source": []
  }
 ],
 "metadata": {
  "kernelspec": {
   "display_name": "Python 3 (ipykernel)",
   "language": "python",
   "name": "python3"
  },
  "language_info": {
   "codemirror_mode": {
    "name": "ipython",
    "version": 3
   },
   "file_extension": ".py",
   "mimetype": "text/x-python",
   "name": "python",
   "nbconvert_exporter": "python",
   "pygments_lexer": "ipython3",
   "version": "3.12.5"
  }
 },
 "nbformat": 4,
 "nbformat_minor": 5
}
