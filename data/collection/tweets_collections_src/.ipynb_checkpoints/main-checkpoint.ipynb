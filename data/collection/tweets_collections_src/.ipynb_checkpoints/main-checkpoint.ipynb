{
 "cells": [
  {
   "cell_type": "code",
   "execution_count": 1,
   "id": "6680c8fd-2a59-4714-b2c3-bf6da5fa84cd",
   "metadata": {},
   "outputs": [],
   "source": [
    "import logging\n",
    "from datetime import datetime, timedelta\n",
    "from tqdm import tqdm\n",
    "from scraper import collect_tweets_for_day, get_last_collected_date"
   ]
  },
  {
   "cell_type": "code",
   "execution_count": null,
   "id": "614f1ec3-8136-4abd-9127-7bd6568b24ee",
   "metadata": {},
   "outputs": [],
   "source": [
    "import logging\n",
    "from datetime import datetime, timedelta\n",
    "from tqdm import tqdm\n",
    "from scraper import collect_tweets_for_day, get_last_collected_date\n",
    "\n",
    "# Configuration\n",
    "START_DATE = datetime(2022, 1, 1)  # Start date of the range\n",
    "END_DATE = datetime(2023, 12, 31)  # End date of the range\n",
    "STOCKS = [\"ITC.NS\", \"SBIN.NS\", \"KOTAKBANK.NS\", \"BHARTIARTL.NS\", \"HCLTECH.NS\", \"LT.NS\", \"AXISBANK.NS\",\n",
    "          \"ASIANPAINT.NS\", \"BAJFINANCE.NS\", \"MARUTI.NS\", \"M&M.NS\", \"SUNPHARMA.NS\", \"TITAN.NS\", \"ULTRACEMCO.NS\",\n",
    "          \"NESTLEIND.NS\", \"INDUSINDBK.NS\", \"ADANIENT.NS\", \"POWERGRID.NS\", \"NTPC.NS\", \"TATASTEEL.NS\", \"JSWSTEEL.NS\",\n",
    "          \"ONGC.NS\", \"BAJAJFINSV.NS\", \"DIVISLAB.NS\", \"TECHM.NS\", \"WIPRO.NS\", \"GRASIM.NS\", \"BRITANNIA.NS\", \n",
    "          \"CIPLA.NS\", \"ADANIGREEN.NS\", \"ADANIPORTS.NS\", \"HEROMOTOCO.NS\", \"COALINDIA.NS\", \"BPCL.NS\", \n",
    "          \"APOLLOHOSP.NS\", \"TATAMOTORS.NS\", \"HDFCLIFE.NS\", \"DABUR.NS\", \"BAJAJ-AUTO.NS\", \"DRREDDY.NS\", \n",
    "          \"SBILIFE.NS\", \"EICHERMOT.NS\", \"HINDALCO.NS\", \"ICICIGI.NS\"]\n",
    "\n",
    "QUERY_BASE_TEMPLATE = '{} OR Stock OR Market OR #StockMarket OR #MarketAnalysis'  # Base query\n",
    "\n",
    "# Setup logging\n",
    "logging.basicConfig(filename='stock_tweet_collection.log', level=logging.INFO, format='%(asctime)s - %(levelname)s - %(message)s')\n",
    "\n",
    "for stock in STOCKS:\n",
    "    CSV_FILE = f'{stock.replace(\".NS\", \"\")}.csv'  # Create a unique CSV file for each stock\n",
    "    QUERY_BASE = QUERY_BASE_TEMPLATE.format(stock)\n",
    "    \n",
    "    # Get the starting date\n",
    "    start_date = get_last_collected_date(CSV_FILE, START_DATE)\n",
    "\n",
    "    # Calculate total number of days to collect tweets for progress bar\n",
    "    total_days = (END_DATE - start_date).days + 1\n",
    "\n",
    "    if start_date > END_DATE:\n",
    "        print(f'All data for {stock} has already been collected up to {END_DATE.strftime(\"%Y-%m-%d\")}.')\n",
    "        continue\n",
    "    else:\n",
    "        # Collect tweets for the specified date range with progress bar\n",
    "        with tqdm(total=total_days, desc=f\"Collecting Tweets for {stock}\", unit=\"day\") as pbar:\n",
    "            current_date = start_date\n",
    "            while current_date <= END_DATE:\n",
    "                collect_tweets_for_day(QUERY_BASE, current_date, CSV_FILE)\n",
    "                current_date += timedelta(days=1)\n",
    "                pbar.update(1)\n",
    "\n",
    "        print(f'Finished collecting tweets for {stock}.')"
   ]
  }
 ],
 "metadata": {
  "kernelspec": {
   "display_name": "Python 3 (ipykernel)",
   "language": "python",
   "name": "python3"
  },
  "language_info": {
   "codemirror_mode": {
    "name": "ipython",
    "version": 3
   },
   "file_extension": ".py",
   "mimetype": "text/x-python",
   "name": "python",
   "nbconvert_exporter": "python",
   "pygments_lexer": "ipython3",
   "version": "3.12.5"
  }
 },
 "nbformat": 4,
 "nbformat_minor": 5
}
