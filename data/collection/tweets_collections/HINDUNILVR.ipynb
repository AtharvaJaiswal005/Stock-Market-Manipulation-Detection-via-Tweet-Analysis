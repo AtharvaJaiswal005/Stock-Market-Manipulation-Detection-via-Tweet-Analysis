{
 "cells": [
  {
   "cell_type": "markdown",
   "id": "0435d665-6e13-4c5d-8297-3de676efae15",
   "metadata": {},
   "source": [
    "# HINDUNILVR"
   ]
  },
  {
   "cell_type": "code",
   "execution_count": 26,
   "id": "735d2234-e3eb-4fdc-8b1f-808652ca0717",
   "metadata": {},
   "outputs": [],
   "source": [
    "import logging\n",
    "from datetime import datetime, timedelta\n",
    "from tqdm import tqdm\n",
    "from scraper import collect_tweets_for_day, get_last_collected_date\n"
   ]
  },
  {
   "cell_type": "code",
   "execution_count": 27,
   "id": "f01fb032-5cd9-468b-ba9e-a086485d31d0",
   "metadata": {},
   "outputs": [
    {
     "name": "stderr",
     "output_type": "stream",
     "text": [
      "Collecting Tweets: 100%|██████████████████████████████████████████████████████████████| 62/62 [12:38<00:00, 12.24s/day]"
     ]
    },
    {
     "name": "stdout",
     "output_type": "stream",
     "text": [
      "Finished collecting tweets.\n"
     ]
    },
    {
     "name": "stderr",
     "output_type": "stream",
     "text": [
      "\n"
     ]
    }
   ],
   "source": [
    "import logging\n",
    "from datetime import datetime, timedelta\n",
    "from tqdm import tqdm\n",
    "from scraper import collect_tweets_for_day, get_last_collected_date\n",
    "\n",
    "# Configuration\n",
    "START_DATE = datetime(2022, 1, 1)  # Start date of the range\n",
    "END_DATE = datetime(2023, 12, 31)  # End date of the range\n",
    "CSV_FILE = 'HINDUNILVR.csv'  # File for HINDUNILVR tweet data\n",
    "SUMMARY_FILE = 'HINDUNILVR_Collection_Summary.csv'\n",
    "QUERY_BASE = 'HindustanUnilever OR HINDUNILVR OR \"Hindustan Unilever\" OR #HindustanUnilever OR #HINDUNILVR OR Stock OR Market OR #StockMarket OR #MarketAnalysis'\n",
    "\n",
    "# Setup logging\n",
    "logging.basicConfig(filename='hindunilvr_tweet_collection.log', level=logging.INFO, format='%(asctime)s - %(levelname)s - %(message)s')\n",
    "\n",
    "# Get the starting date\n",
    "start_date = get_last_collected_date(CSV_FILE, START_DATE)\n",
    "\n",
    "# Calculate total number of days to collect tweets for progress bar\n",
    "total_days = (END_DATE - start_date).days + 1\n",
    "\n",
    "if start_date > END_DATE:\n",
    "    print(f'All data has already been collected up to {END_DATE.strftime(\"%Y-%m-%d\")}.')\n",
    "else:\n",
    "    # Collect tweets for the specified date range with progress bar\n",
    "    with tqdm(total=total_days, desc=\"Collecting Tweets\", unit=\"day\") as pbar:\n",
    "        current_date = start_date\n",
    "        while current_date <= END_DATE:\n",
    "            collect_tweets_for_day(QUERY_BASE, current_date, CSV_FILE)\n",
    "            current_date += timedelta(days=1)\n",
    "            pbar.update(1)\n",
    "\n",
    "    print(f'Finished collecting tweets.')"
   ]
  },
  {
   "cell_type": "code",
   "execution_count": null,
   "id": "b38cb7a2-1e2a-411c-aea5-5ea3fb07dd5b",
   "metadata": {},
   "outputs": [],
   "source": []
  }
 ],
 "metadata": {
  "kernelspec": {
   "display_name": "Python 3 (ipykernel)",
   "language": "python",
   "name": "python3"
  },
  "language_info": {
   "codemirror_mode": {
    "name": "ipython",
    "version": 3
   },
   "file_extension": ".py",
   "mimetype": "text/x-python",
   "name": "python",
   "nbconvert_exporter": "python",
   "pygments_lexer": "ipython3",
   "version": "3.12.5"
  }
 },
 "nbformat": 4,
 "nbformat_minor": 5
}
