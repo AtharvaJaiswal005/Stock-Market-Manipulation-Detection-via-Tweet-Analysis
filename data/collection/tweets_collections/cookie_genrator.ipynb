{
 "cells": [
  {
   "cell_type": "code",
   "execution_count": 1,
   "id": "7351ad9b-558a-4206-b81e-2dc7e8e6e4bb",
   "metadata": {},
   "outputs": [
    {
     "name": "stdout",
     "output_type": "stream",
     "text": [
      "Login failed. Status code: 400\n"
     ]
    }
   ],
   "source": [
    "import requests\n",
    "import json\n",
    "\n",
    "# Define the login URL and credentials\n",
    "login_url = 'https://x.com/i/flow/login'  # Replace with the actual login URL\n",
    "email = 'b.usjaiswal@gmail.com'\n",
    "password = 'NOTpad8520'\n",
    "\n",
    "# Start a session\n",
    "session = requests.Session()\n",
    "\n",
    "# Define the login payload (adjust based on the website's form requirements)\n",
    "payload = {\n",
    "    'email': email,\n",
    "    'password': password\n",
    "}\n",
    "\n",
    "# Log in to the website\n",
    "response = session.post(login_url, data=payload)\n",
    "\n",
    "# Check if login is successful\n",
    "if response.status_code == 200:\n",
    "    # Extract cookies from the session\n",
    "    cookies = session.cookies.get_dict()\n",
    "\n",
    "    # Prepare the desired cookie format (use placeholders or the extracted cookie values)\n",
    "    cookie_data = {\n",
    "        \"guest_id_marketing\": cookies.get('guest_id_marketing', \"v1%3A172448790088185026\"),\n",
    "        \"guest_id_ads\": cookies.get('guest_id_ads', \"v1%3A172448790088185026\"),\n",
    "        \"personalization_id\": cookies.get('personalization_id', \"v1_TqDKDtoi3q4NoUUpbZUtMg==\"),\n",
    "        \"guest_id\": cookies.get('guest_id', \"v1%3A172448790088185026\"),\n",
    "        \"att\": cookies.get('att', \"1-WO0K4pY2N99yw4re6PkoBEH07pkX6SmlojsBbBNM\"),\n",
    "        \"kdt\": cookies.get('kdt', \"bIVDQVmPSP6qyl1Zp2GbSyJNHPJBS1gv9Mdu2pnb\"),\n",
    "        \"twid\": cookies.get('twid', \"u%3D1836813071836123136\"),\n",
    "        \"ct0\": cookies.get('ct0', \"c11a3e28fdfe9e79291a2bdd7459ce953c2f35265c8c8c99e2153cca1835fdafc6107782c11184081c7fc4183a9a09ae9b26f473d7ee39783ca3b8b09ea6225232063e66a062840446a5efbe68a13c06\"),\n",
    "        \"auth_token\": cookies.get('auth_token', \"9b8f213df4dc1e4a352007118fb3c65588cfdf1e\")\n",
    "    }\n",
    "\n",
    "    # Write the cookies to a JSON file in the desired format\n",
    "    with open('cookies5.json', 'w') as cookie_file:\n",
    "        json.dump(cookie_data, cookie_file, indent=2)\n",
    "\n",
    "    print(\"Cookies saved to cookies.json\")\n",
    "\n",
    "else:\n",
    "    print(\"Login failed. Status code:\", response.status_code)\n"
   ]
  },
  {
   "cell_type": "code",
   "execution_count": null,
   "id": "de43d1b1-aa8e-4183-a9fb-4bedc124e7ba",
   "metadata": {},
   "outputs": [],
   "source": []
  }
 ],
 "metadata": {
  "kernelspec": {
   "display_name": "Python 3 (ipykernel)",
   "language": "python",
   "name": "python3"
  },
  "language_info": {
   "codemirror_mode": {
    "name": "ipython",
    "version": 3
   },
   "file_extension": ".py",
   "mimetype": "text/x-python",
   "name": "python",
   "nbconvert_exporter": "python",
   "pygments_lexer": "ipython3",
   "version": "3.12.5"
  }
 },
 "nbformat": 4,
 "nbformat_minor": 5
}
