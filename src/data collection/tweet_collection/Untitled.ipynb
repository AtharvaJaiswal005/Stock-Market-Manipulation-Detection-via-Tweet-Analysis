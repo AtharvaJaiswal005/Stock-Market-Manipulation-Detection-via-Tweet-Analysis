{
 "cells": [
  {
   "cell_type": "code",
   "execution_count": 12,
   "id": "cf1df802-6cd2-4604-80aa-e8fd679fa222",
   "metadata": {},
   "outputs": [],
   "source": [
    "!pip install twikit==1.7.6 -q"
   ]
  },
  {
   "cell_type": "code",
   "execution_count": 5,
   "id": "642d64c8-34de-4382-b90e-1465100c85d5",
   "metadata": {},
   "outputs": [],
   "source": [
    "from twikit import Client, TooManyRequests\n",
    "import time\n",
    "from datetime import datetime\n",
    "import csv\n",
    "from configparser import ConfigParser\n",
    "from random import randint\n"
   ]
  },
  {
   "cell_type": "code",
   "execution_count": 6,
   "id": "858aba56-c404-453f-aa51-8a98ddb3d2e7",
   "metadata": {},
   "outputs": [],
   "source": [
    "MINIMUM_TWEETS = 10\n",
    "QUERY = 'stock market'\n",
    "\n",
    "\n",
    "def get_tweets(tweets):\n",
    "    if tweets is None:\n",
    "        #* get tweets\n",
    "        print(f'{datetime.now()} - Getting tweets...')\n",
    "        tweets = client.search_tweet(QUERY, product='Top')\n",
    "    else:\n",
    "        wait_time = randint(5, 10)\n",
    "        print(f'{datetime.now()} - Getting next tweets after {wait_time} seconds ...')\n",
    "        time.sleep(wait_time)\n",
    "        tweets = tweets.next()\n",
    "\n",
    "    return tweets\n",
    "client = Client(language='en-IN')"
   ]
  },
  {
   "cell_type": "code",
   "execution_count": 17,
   "id": "ad721ba0-c5ff-4a0e-a757-a122eecdd0c8",
   "metadata": {},
   "outputs": [
    {
     "name": "stdout",
     "output_type": "stream",
     "text": [
      "2024-09-23 11:42:46.175553 - Getting tweets...\n",
      "2024-09-23 11:42:48.704134 - Got 18 tweets\n",
      "2024-09-23 11:42:48.704134 - Done! Got 18 tweets found\n"
     ]
    }
   ],
   "source": [
    "client.load_cookies('cookies8.json')\n",
    "\n",
    "tweet_count = 0\n",
    "tweets = None\n",
    "\n",
    "while tweet_count < MINIMUM_TWEETS:\n",
    "\n",
    "    try:\n",
    "        tweets = get_tweets(tweets)\n",
    "    except TooManyRequests as e:\n",
    "        rate_limit_reset = datetime.fromtimestamp(e.rate_limit_reset)\n",
    "        print(f'{datetime.now()} - Rate limit reached. Waiting until {rate_limit_reset}')\n",
    "        wait_time = rate_limit_reset - datetime.now()\n",
    "        time.sleep(wait_time.total_seconds())\n",
    "        continue\n",
    "\n",
    "    if not tweets:\n",
    "        print(f'{datetime.now()} - No more tweets found')\n",
    "        break\n",
    "\n",
    "    for tweet in tweets:\n",
    "        tweet_count += 1\n",
    "        current_date = datetime.now().strftime('%Y-%m-%d')  # Get the current date\n",
    "        tweet_data = [current_date, tweet_count, tweet.user.name, tweet.text, tweet.created_at, tweet.retweet_count, tweet.favorite_count]\n",
    "        \n",
    "        with open('tweets.csv', 'a', newline='', encoding='utf-8') as file:\n",
    "            writer = csv.writer(file)\n",
    "            writer.writerow(tweet_data)\n",
    "\n",
    "    print(f'{datetime.now()} - Got {tweet_count} tweets')\n",
    "\n",
    "print(f'{datetime.now()} - Done! Got {tweet_count} tweets found')\n"
   ]
  },
  {
   "cell_type": "code",
   "execution_count": null,
   "id": "c1e0a6b6-af19-4f2a-bf6c-6e081e0027ad",
   "metadata": {},
   "outputs": [],
   "source": []
  }
 ],
 "metadata": {
  "kernelspec": {
   "display_name": "Python 3 (ipykernel)",
   "language": "python",
   "name": "python3"
  },
  "language_info": {
   "codemirror_mode": {
    "name": "ipython",
    "version": 3
   },
   "file_extension": ".py",
   "mimetype": "text/x-python",
   "name": "python",
   "nbconvert_exporter": "python",
   "pygments_lexer": "ipython3",
   "version": "3.12.5"
  }
 },
 "nbformat": 4,
 "nbformat_minor": 5
}
